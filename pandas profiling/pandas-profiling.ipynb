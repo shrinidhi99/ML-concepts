{
 "cells": [
  {
   "cell_type": "markdown",
   "metadata": {},
   "source": [
    "## Pandas profiling"
   ]
  },
  {
   "cell_type": "code",
   "execution_count": 1,
   "metadata": {},
   "outputs": [],
   "source": [
    "from sklearn.datasets import load_diabetes\n",
    "from pandas_profiling import ProfileReport\n",
    "import numpy as np\n",
    "import pandas as pd"
   ]
  },
  {
   "cell_type": "code",
   "execution_count": 2,
   "metadata": {},
   "outputs": [],
   "source": [
    "diab_data = load_diabetes()"
   ]
  },
  {
   "cell_type": "code",
   "execution_count": 3,
   "metadata": {},
   "outputs": [
    {
     "output_type": "execute_result",
     "data": {
      "text/plain": "        age       sex       bmi        bp        s1        s2        s3  \\\n0  0.038076  0.050680  0.061696  0.021872 -0.044223 -0.034821 -0.043401   \n1 -0.001882 -0.044642 -0.051474 -0.026328 -0.008449 -0.019163  0.074412   \n2  0.085299  0.050680  0.044451 -0.005671 -0.045599 -0.034194 -0.032356   \n3 -0.089063 -0.044642 -0.011595 -0.036656  0.012191  0.024991 -0.036038   \n4  0.005383 -0.044642 -0.036385  0.021872  0.003935  0.015596  0.008142   \n\n         s4        s5        s6  \n0 -0.002592  0.019908 -0.017646  \n1 -0.039493 -0.068330 -0.092204  \n2 -0.002592  0.002864 -0.025930  \n3  0.034309  0.022692 -0.009362  \n4 -0.002592 -0.031991 -0.046641  ",
      "text/html": "<div>\n<style scoped>\n    .dataframe tbody tr th:only-of-type {\n        vertical-align: middle;\n    }\n\n    .dataframe tbody tr th {\n        vertical-align: top;\n    }\n\n    .dataframe thead th {\n        text-align: right;\n    }\n</style>\n<table border=\"1\" class=\"dataframe\">\n  <thead>\n    <tr style=\"text-align: right;\">\n      <th></th>\n      <th>age</th>\n      <th>sex</th>\n      <th>bmi</th>\n      <th>bp</th>\n      <th>s1</th>\n      <th>s2</th>\n      <th>s3</th>\n      <th>s4</th>\n      <th>s5</th>\n      <th>s6</th>\n    </tr>\n  </thead>\n  <tbody>\n    <tr>\n      <th>0</th>\n      <td>0.038076</td>\n      <td>0.050680</td>\n      <td>0.061696</td>\n      <td>0.021872</td>\n      <td>-0.044223</td>\n      <td>-0.034821</td>\n      <td>-0.043401</td>\n      <td>-0.002592</td>\n      <td>0.019908</td>\n      <td>-0.017646</td>\n    </tr>\n    <tr>\n      <th>1</th>\n      <td>-0.001882</td>\n      <td>-0.044642</td>\n      <td>-0.051474</td>\n      <td>-0.026328</td>\n      <td>-0.008449</td>\n      <td>-0.019163</td>\n      <td>0.074412</td>\n      <td>-0.039493</td>\n      <td>-0.068330</td>\n      <td>-0.092204</td>\n    </tr>\n    <tr>\n      <th>2</th>\n      <td>0.085299</td>\n      <td>0.050680</td>\n      <td>0.044451</td>\n      <td>-0.005671</td>\n      <td>-0.045599</td>\n      <td>-0.034194</td>\n      <td>-0.032356</td>\n      <td>-0.002592</td>\n      <td>0.002864</td>\n      <td>-0.025930</td>\n    </tr>\n    <tr>\n      <th>3</th>\n      <td>-0.089063</td>\n      <td>-0.044642</td>\n      <td>-0.011595</td>\n      <td>-0.036656</td>\n      <td>0.012191</td>\n      <td>0.024991</td>\n      <td>-0.036038</td>\n      <td>0.034309</td>\n      <td>0.022692</td>\n      <td>-0.009362</td>\n    </tr>\n    <tr>\n      <th>4</th>\n      <td>0.005383</td>\n      <td>-0.044642</td>\n      <td>-0.036385</td>\n      <td>0.021872</td>\n      <td>0.003935</td>\n      <td>0.015596</td>\n      <td>0.008142</td>\n      <td>-0.002592</td>\n      <td>-0.031991</td>\n      <td>-0.046641</td>\n    </tr>\n  </tbody>\n</table>\n</div>"
     },
     "metadata": {},
     "execution_count": 3
    }
   ],
   "source": [
    "df = pd.DataFrame(data=diab_data.data, columns=diab_data.feature_names)\n",
    "df.head()"
   ]
  },
  {
   "cell_type": "code",
   "execution_count": 4,
   "metadata": {},
   "outputs": [
    {
     "output_type": "execute_result",
     "data": {
      "text/plain": "Index(['age', 'sex', 'bmi', 'bp', 's1', 's2', 's3', 's4', 's5', 's6'], dtype='object')"
     },
     "metadata": {},
     "execution_count": 4
    }
   ],
   "source": [
    "df.columns"
   ]
  },
  {
   "cell_type": "code",
   "execution_count": 5,
   "metadata": {},
   "outputs": [],
   "source": [
    "# to create a report quickly\n",
    "profile = ProfileReport(df, title='Pandas Profiling Report')"
   ]
  },
  {
   "cell_type": "code",
   "execution_count": 6,
   "metadata": {},
   "outputs": [
    {
     "output_type": "stream",
     "name": "stderr",
     "text": "Summarize dataset: 100%|██████████| 24/24 [00:20<00:00,  1.17it/s, Completed]\nGenerate report structure: 100%|██████████| 1/1 [00:03<00:00,  3.45s/it]\nRender widgets:   0%|          | 0/1 [00:00<?, ?it/s]"
    },
    {
     "output_type": "display_data",
     "data": {
      "text/plain": "        age       sex       bmi        bp        s1        s2        s3  \\\n0  0.038076  0.050680  0.061696  0.021872 -0.044223 -0.034821 -0.043401   \n1 -0.001882 -0.044642 -0.051474 -0.026328 -0.008449 -0.019163  0.074412   \n2  0.085299  0.050680  0.044451 -0.005671 -0.045599 -0.034194 -0.032356   \n3 -0.089063 -0.044642 -0.011595 -0.036656  0.012191  0.024991 -0.036038   \n4  0.005383 -0.044642 -0.036385  0.021872  0.003935  0.015596  0.008142   \n5 -0.092695 -0.044642 -0.040696 -0.019442 -0.068991 -0.079288  0.041277   \n6 -0.045472  0.050680 -0.047163 -0.015999 -0.040096 -0.024800  0.000779   \n7  0.063504  0.050680 -0.001895  0.066630  0.090620  0.108914  0.022869   \n8  0.041708  0.050680  0.061696 -0.040099 -0.013953  0.006202 -0.028674   \n9 -0.070900 -0.044642  0.039062 -0.033214 -0.012577 -0.034508 -0.024993   \n\n         s4        s5        s6  \n0 -0.002592  0.019908 -0.017646  \n1 -0.039493 -0.068330 -0.092204  \n2 -0.002592  0.002864 -0.025930  \n3  0.034309  0.022692 -0.009362  \n4 -0.002592 -0.031991 -0.046641  \n5 -0.076395 -0.041180 -0.096346  \n6 -0.039493 -0.062913 -0.038357  \n7  0.017703 -0.035817  0.003064  \n8 -0.002592 -0.014956  0.011349  \n9 -0.002592  0.067736 -0.013504  ",
      "text/html": "<div>\n<style scoped>\n    .dataframe tbody tr th:only-of-type {\n        vertical-align: middle;\n    }\n\n    .dataframe tbody tr th {\n        vertical-align: top;\n    }\n\n    .dataframe thead th {\n        text-align: right;\n    }\n</style>\n<table border=\"1\" class=\"dataframe\">\n  <thead>\n    <tr style=\"text-align: right;\">\n      <th></th>\n      <th>age</th>\n      <th>sex</th>\n      <th>bmi</th>\n      <th>bp</th>\n      <th>s1</th>\n      <th>s2</th>\n      <th>s3</th>\n      <th>s4</th>\n      <th>s5</th>\n      <th>s6</th>\n    </tr>\n  </thead>\n  <tbody>\n    <tr>\n      <th>0</th>\n      <td>0.038076</td>\n      <td>0.050680</td>\n      <td>0.061696</td>\n      <td>0.021872</td>\n      <td>-0.044223</td>\n      <td>-0.034821</td>\n      <td>-0.043401</td>\n      <td>-0.002592</td>\n      <td>0.019908</td>\n      <td>-0.017646</td>\n    </tr>\n    <tr>\n      <th>1</th>\n      <td>-0.001882</td>\n      <td>-0.044642</td>\n      <td>-0.051474</td>\n      <td>-0.026328</td>\n      <td>-0.008449</td>\n      <td>-0.019163</td>\n      <td>0.074412</td>\n      <td>-0.039493</td>\n      <td>-0.068330</td>\n      <td>-0.092204</td>\n    </tr>\n    <tr>\n      <th>2</th>\n      <td>0.085299</td>\n      <td>0.050680</td>\n      <td>0.044451</td>\n      <td>-0.005671</td>\n      <td>-0.045599</td>\n      <td>-0.034194</td>\n      <td>-0.032356</td>\n      <td>-0.002592</td>\n      <td>0.002864</td>\n      <td>-0.025930</td>\n    </tr>\n    <tr>\n      <th>3</th>\n      <td>-0.089063</td>\n      <td>-0.044642</td>\n      <td>-0.011595</td>\n      <td>-0.036656</td>\n      <td>0.012191</td>\n      <td>0.024991</td>\n      <td>-0.036038</td>\n      <td>0.034309</td>\n      <td>0.022692</td>\n      <td>-0.009362</td>\n    </tr>\n    <tr>\n      <th>4</th>\n      <td>0.005383</td>\n      <td>-0.044642</td>\n      <td>-0.036385</td>\n      <td>0.021872</td>\n      <td>0.003935</td>\n      <td>0.015596</td>\n      <td>0.008142</td>\n      <td>-0.002592</td>\n      <td>-0.031991</td>\n      <td>-0.046641</td>\n    </tr>\n    <tr>\n      <th>5</th>\n      <td>-0.092695</td>\n      <td>-0.044642</td>\n      <td>-0.040696</td>\n      <td>-0.019442</td>\n      <td>-0.068991</td>\n      <td>-0.079288</td>\n      <td>0.041277</td>\n      <td>-0.076395</td>\n      <td>-0.041180</td>\n      <td>-0.096346</td>\n    </tr>\n    <tr>\n      <th>6</th>\n      <td>-0.045472</td>\n      <td>0.050680</td>\n      <td>-0.047163</td>\n      <td>-0.015999</td>\n      <td>-0.040096</td>\n      <td>-0.024800</td>\n      <td>0.000779</td>\n      <td>-0.039493</td>\n      <td>-0.062913</td>\n      <td>-0.038357</td>\n    </tr>\n    <tr>\n      <th>7</th>\n      <td>0.063504</td>\n      <td>0.050680</td>\n      <td>-0.001895</td>\n      <td>0.066630</td>\n      <td>0.090620</td>\n      <td>0.108914</td>\n      <td>0.022869</td>\n      <td>0.017703</td>\n      <td>-0.035817</td>\n      <td>0.003064</td>\n    </tr>\n    <tr>\n      <th>8</th>\n      <td>0.041708</td>\n      <td>0.050680</td>\n      <td>0.061696</td>\n      <td>-0.040099</td>\n      <td>-0.013953</td>\n      <td>0.006202</td>\n      <td>-0.028674</td>\n      <td>-0.002592</td>\n      <td>-0.014956</td>\n      <td>0.011349</td>\n    </tr>\n    <tr>\n      <th>9</th>\n      <td>-0.070900</td>\n      <td>-0.044642</td>\n      <td>0.039062</td>\n      <td>-0.033214</td>\n      <td>-0.012577</td>\n      <td>-0.034508</td>\n      <td>-0.024993</td>\n      <td>-0.002592</td>\n      <td>0.067736</td>\n      <td>-0.013504</td>\n    </tr>\n  </tbody>\n</table>\n</div>"
     },
     "metadata": {}
    },
    {
     "output_type": "display_data",
     "data": {
      "text/plain": "          age       sex       bmi        bp        s1        s2        s3  \\\n432  0.009016 -0.044642  0.055229 -0.005671  0.057597  0.044719 -0.002903   \n433 -0.027310 -0.044642 -0.060097 -0.029771  0.046589  0.019980  0.122273   \n434  0.016281 -0.044642  0.001339  0.008101  0.005311  0.010899  0.030232   \n435 -0.012780 -0.044642 -0.023451 -0.040099 -0.016704  0.004636 -0.017629   \n436 -0.056370 -0.044642 -0.074108 -0.050428 -0.024960 -0.047034  0.092820   \n437  0.041708  0.050680  0.019662  0.059744 -0.005697 -0.002566 -0.028674   \n438 -0.005515  0.050680 -0.015906 -0.067642  0.049341  0.079165 -0.028674   \n439  0.041708  0.050680 -0.015906  0.017282 -0.037344 -0.013840 -0.024993   \n440 -0.045472 -0.044642  0.039062  0.001215  0.016318  0.015283 -0.028674   \n441 -0.045472 -0.044642 -0.073030 -0.081414  0.083740  0.027809  0.173816   \n\n           s4        s5        s6  \n432  0.023239  0.055684  0.106617  \n433 -0.039493 -0.051401 -0.009362  \n434 -0.039493 -0.045421  0.032059  \n435 -0.002592 -0.038459 -0.038357  \n436 -0.076395 -0.061177 -0.046641  \n437 -0.002592  0.031193  0.007207  \n438  0.034309 -0.018118  0.044485  \n439 -0.011080 -0.046879  0.015491  \n440  0.026560  0.044528 -0.025930  \n441 -0.039493 -0.004220  0.003064  ",
      "text/html": "<div>\n<style scoped>\n    .dataframe tbody tr th:only-of-type {\n        vertical-align: middle;\n    }\n\n    .dataframe tbody tr th {\n        vertical-align: top;\n    }\n\n    .dataframe thead th {\n        text-align: right;\n    }\n</style>\n<table border=\"1\" class=\"dataframe\">\n  <thead>\n    <tr style=\"text-align: right;\">\n      <th></th>\n      <th>age</th>\n      <th>sex</th>\n      <th>bmi</th>\n      <th>bp</th>\n      <th>s1</th>\n      <th>s2</th>\n      <th>s3</th>\n      <th>s4</th>\n      <th>s5</th>\n      <th>s6</th>\n    </tr>\n  </thead>\n  <tbody>\n    <tr>\n      <th>432</th>\n      <td>0.009016</td>\n      <td>-0.044642</td>\n      <td>0.055229</td>\n      <td>-0.005671</td>\n      <td>0.057597</td>\n      <td>0.044719</td>\n      <td>-0.002903</td>\n      <td>0.023239</td>\n      <td>0.055684</td>\n      <td>0.106617</td>\n    </tr>\n    <tr>\n      <th>433</th>\n      <td>-0.027310</td>\n      <td>-0.044642</td>\n      <td>-0.060097</td>\n      <td>-0.029771</td>\n      <td>0.046589</td>\n      <td>0.019980</td>\n      <td>0.122273</td>\n      <td>-0.039493</td>\n      <td>-0.051401</td>\n      <td>-0.009362</td>\n    </tr>\n    <tr>\n      <th>434</th>\n      <td>0.016281</td>\n      <td>-0.044642</td>\n      <td>0.001339</td>\n      <td>0.008101</td>\n      <td>0.005311</td>\n      <td>0.010899</td>\n      <td>0.030232</td>\n      <td>-0.039493</td>\n      <td>-0.045421</td>\n      <td>0.032059</td>\n    </tr>\n    <tr>\n      <th>435</th>\n      <td>-0.012780</td>\n      <td>-0.044642</td>\n      <td>-0.023451</td>\n      <td>-0.040099</td>\n      <td>-0.016704</td>\n      <td>0.004636</td>\n      <td>-0.017629</td>\n      <td>-0.002592</td>\n      <td>-0.038459</td>\n      <td>-0.038357</td>\n    </tr>\n    <tr>\n      <th>436</th>\n      <td>-0.056370</td>\n      <td>-0.044642</td>\n      <td>-0.074108</td>\n      <td>-0.050428</td>\n      <td>-0.024960</td>\n      <td>-0.047034</td>\n      <td>0.092820</td>\n      <td>-0.076395</td>\n      <td>-0.061177</td>\n      <td>-0.046641</td>\n    </tr>\n    <tr>\n      <th>437</th>\n      <td>0.041708</td>\n      <td>0.050680</td>\n      <td>0.019662</td>\n      <td>0.059744</td>\n      <td>-0.005697</td>\n      <td>-0.002566</td>\n      <td>-0.028674</td>\n      <td>-0.002592</td>\n      <td>0.031193</td>\n      <td>0.007207</td>\n    </tr>\n    <tr>\n      <th>438</th>\n      <td>-0.005515</td>\n      <td>0.050680</td>\n      <td>-0.015906</td>\n      <td>-0.067642</td>\n      <td>0.049341</td>\n      <td>0.079165</td>\n      <td>-0.028674</td>\n      <td>0.034309</td>\n      <td>-0.018118</td>\n      <td>0.044485</td>\n    </tr>\n    <tr>\n      <th>439</th>\n      <td>0.041708</td>\n      <td>0.050680</td>\n      <td>-0.015906</td>\n      <td>0.017282</td>\n      <td>-0.037344</td>\n      <td>-0.013840</td>\n      <td>-0.024993</td>\n      <td>-0.011080</td>\n      <td>-0.046879</td>\n      <td>0.015491</td>\n    </tr>\n    <tr>\n      <th>440</th>\n      <td>-0.045472</td>\n      <td>-0.044642</td>\n      <td>0.039062</td>\n      <td>0.001215</td>\n      <td>0.016318</td>\n      <td>0.015283</td>\n      <td>-0.028674</td>\n      <td>0.026560</td>\n      <td>0.044528</td>\n      <td>-0.025930</td>\n    </tr>\n    <tr>\n      <th>441</th>\n      <td>-0.045472</td>\n      <td>-0.044642</td>\n      <td>-0.073030</td>\n      <td>-0.081414</td>\n      <td>0.083740</td>\n      <td>0.027809</td>\n      <td>0.173816</td>\n      <td>-0.039493</td>\n      <td>-0.004220</td>\n      <td>0.003064</td>\n    </tr>\n  </tbody>\n</table>\n</div>"
     },
     "metadata": {}
    },
    {
     "output_type": "stream",
     "name": "stderr",
     "text": "Render widgets: 100%|██████████| 1/1 [00:17<00:00, 17.12s/it]"
    },
    {
     "output_type": "display_data",
     "data": {
      "text/plain": "VBox(children=(Tab(children=(Tab(children=(GridBox(children=(VBox(children=(GridspecLayout(children=(HTML(valu…",
      "application/vnd.jupyter.widget-view+json": {
       "version_major": 2,
       "version_minor": 0,
       "model_id": "53eafce112bd40bc8599abebc2e1bef2"
      }
     },
     "metadata": {}
    }
   ],
   "source": [
    "profile.to_widgets()"
   ]
  },
  {
   "cell_type": "code",
   "execution_count": 7,
   "metadata": {},
   "outputs": [
    {
     "output_type": "stream",
     "name": "stderr",
     "text": "Render HTML: 100%|██████████| 1/1 [00:03<00:00,  3.83s/it]\nExport report to file: 100%|██████████| 1/1 [00:00<00:00, 70.61it/s]\n"
    }
   ],
   "source": [
    "profile.to_file('output.html')"
   ]
  }
 ],
 "metadata": {
  "language_info": {
   "codemirror_mode": {
    "name": "ipython",
    "version": 3
   },
   "file_extension": ".py",
   "mimetype": "text/x-python",
   "name": "python",
   "nbconvert_exporter": "python",
   "pygments_lexer": "ipython3",
   "version": "3.6.9-final"
  },
  "orig_nbformat": 2,
  "kernelspec": {
   "name": "python36964bit376daa54d9d3453fa87269f7114d62ce",
   "display_name": "Python 3.6.9 64-bit"
  }
 },
 "nbformat": 4,
 "nbformat_minor": 2
}